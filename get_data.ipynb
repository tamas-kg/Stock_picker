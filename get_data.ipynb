{
 "cells": [
  {
   "cell_type": "code",
   "execution_count": 2,
   "metadata": {},
   "outputs": [],
   "source": [
    "import pandas as pd\n",
    "import numpy as np\n",
    "import requests\n",
    "import time\n",
    "from tqdm import tqdm"
   ]
  },
  {
   "cell_type": "code",
   "execution_count": null,
   "metadata": {},
   "outputs": [],
   "source": [
    "# get list of available tickers from financialmodelingprep.com api\n",
    "\n",
    "r = requests.get('https://financialmodelingprep.com/api/v3/company/stock/list')\n",
    "j = r.json()\n",
    "\n",
    "tickerlist = pd.DataFrame(j['symbolsList'])"
   ]
  },
  {
   "cell_type": "code",
   "execution_count": null,
   "metadata": {},
   "outputs": [],
   "source": [
    "tickerlist.head()"
   ]
  },
  {
   "cell_type": "code",
   "execution_count": null,
   "metadata": {},
   "outputs": [],
   "source": [
    "financial_statements = ['income-statement','balance-sheet-statement','cash-flow-statement']"
   ]
  },
  {
   "cell_type": "code",
   "execution_count": null,
   "metadata": {},
   "outputs": [],
   "source": [
    "# pull the 3 financial statements for returned tickerlist\n",
    "\n",
    "for statement in financial_statements:\n",
    "    fin_statement = pd.DataFrame()\n",
    "    fin_statement_err = []\n",
    "    for ticker in tqdm(tickerlist['symbol'].tolist()):\n",
    "        try:\n",
    "            r = requests.get('https://financialmodelingprep.com/api/v3/financials/' + statement + '/' + ticker + '?period=quarter')\n",
    "            j = r.json()\n",
    "            df_temp = pd.DataFrame(j['financials'])\n",
    "            df_temp['Ticker'] = ticker\n",
    "            fin_statement = fin_statement.append(df_temp)\n",
    "        except:\n",
    "            fin_statement_err.append(ticker)\n",
    "#         time.sleep(5)\n",
    "    error_log = pd.DataFrame(fin_statement_err)\n",
    "    error_log.to_csv('Data\\Fundamentals' + '\\\\' + statement + '_errors.csv', index=False)\n",
    "    fin_statement.to_csv('Data\\Fundamentals' + '\\\\' + statement + '.csv', index=False)"
   ]
  },
  {
   "cell_type": "code",
   "execution_count": null,
   "metadata": {},
   "outputs": [],
   "source": [
    "# pull key metrics\n",
    "\n",
    "del fin_statement\n",
    "\n",
    "key_metrics = pd.DataFrame()\n",
    "key_metrics_err = []\n",
    "for ticker in tqdm(tickerlist['symbol'].tolist()):\n",
    "    try:\n",
    "        r = requests.get('https://financialmodelingprep.com/api/v3/company-key-metrics/' + ticker + '?period=quarter')\n",
    "        j = r.json()\n",
    "        df_temp = pd.DataFrame(j['metrics'])\n",
    "        df_temp['Ticker'] = ticker\n",
    "        key_metrics = key_metrics.append(df_temp)\n",
    "    except:\n",
    "        key_metrics_err.append(ticker)\n",
    "#       time.sleep(5)\n",
    "error_log = pd.DataFrame(key_metrics_err)\n",
    "error_log.to_csv('Data\\Fundamentals\\key_metrics_errors.csv', index=False)\n",
    "key_metrics.to_csv('Data\\Fundamentals\\key_metrics.csv', index=False)"
   ]
  },
  {
   "cell_type": "code",
   "execution_count": null,
   "metadata": {},
   "outputs": [],
   "source": [
    "# pull historical prices\n",
    "\n",
    "del key_metrics\n",
    "\n",
    "historical_price = pd.DataFrame()\n",
    "historical_price_err = []\n",
    "for ticker in tqdm(tickerlist['symbol'].tolist()):\n",
    "    try:\n",
    "        r = requests.get('https://financialmodelingprep.com/api/v3/historical-price-full/' + ticker + '?from=2009-01-01&to=2020-03-31')\n",
    "        j = r.json()\n",
    "        df_temp = pd.DataFrame(j['historical'])\n",
    "        df_temp['Ticker'] = ticker\n",
    "        historical_price = historical_price.append(df_temp, sort=True)\n",
    "    except:\n",
    "        historical_price_err.append(ticker)\n",
    "#       time.sleep(5)\n",
    "error_log = pd.DataFrame(historical_prices_err)\n",
    "error_log.to_csv('Data\\Fundamentals\\historical_price_errors.csv', index=False)\n",
    "historical_price.to_csv('Data\\Fundamentals\\historical_price.csv', index=False)"
   ]
  }
 ],
 "metadata": {
  "kernelspec": {
   "display_name": "Python 3",
   "language": "python",
   "name": "python3"
  },
  "language_info": {
   "codemirror_mode": {
    "name": "ipython",
    "version": 3
   },
   "file_extension": ".py",
   "mimetype": "text/x-python",
   "name": "python",
   "nbconvert_exporter": "python",
   "pygments_lexer": "ipython3",
   "version": "3.7.5"
  }
 },
 "nbformat": 4,
 "nbformat_minor": 4
}
